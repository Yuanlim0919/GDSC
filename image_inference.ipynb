{
 "cells": [
  {
   "cell_type": "markdown",
   "metadata": {},
   "source": [
    "Import libraries"
   ]
  },
  {
   "cell_type": "code",
   "execution_count": null,
   "metadata": {},
   "outputs": [],
   "source": [
    "import requests\n",
    "import numpy\n",
    "import PIL\n",
    "import os\n",
    "import shutil\n",
    "import cv2\n",
    "from PIL import Image\n",
    "from matplotlib import pyplot as plt\n",
    "from tensorflow import keras"
   ]
  },
  {
   "cell_type": "markdown",
   "metadata": {},
   "source": [
    "Image Preprocessing"
   ]
  },
  {
   "cell_type": "code",
   "execution_count": null,
   "metadata": {},
   "outputs": [],
   "source": [
    "with open('kaptcha.jpg', 'wb') as file:\n",
    "    res = requests.get('https://eservice.mohw.gov.tw/Login/GetValidateCode?rand=983', verify = True)\n",
    "    file.write(res.content)\n",
    "image = cv2.imread('kaptcha.jpg')\n",
    "open_cv_image = numpy.array(image)\n",
    "nc = cv2.fastNlMeansDenoisingColored(open_cv_image, None, 30, 30, 7, 21)\n",
    "imgray = cv2.cvtColor(nc, cv2.COLOR_RGB2GRAY)\n",
    "ret, thresh = cv2.threshold(imgray, 127, 255, 0, cv2.THRESH_BINARY)\n",
    "contours, hierarchy = cv2.findContours(thresh, cv2.RETR_TREE, cv2.CHAIN_APPROX_SIMPLE)\n",
    "cnts = sorted([(c, cv2.boundingRect(c)[0]) for c in contours], key = lambda x: x[1])\n",
    "ary = []\n",
    "plt.imshow(thresh)"
   ]
  },
  {
   "cell_type": "markdown",
   "metadata": {},
   "source": [
    "Inference"
   ]
  },
  {
   "cell_type": "code",
   "execution_count": null,
   "metadata": {},
   "outputs": [],
   "source": [
    "model = keras.models.load_model('captcha.h5')\n",
    "index = 0\n",
    "number = 0\n",
    "for index in range(1):\n",
    "    with open('kaptcha.jpg', 'wb') as file:\n",
    "        res = requests.get('https://eservice.mohw.gov.tw/Login/GetValidateCode?rand=983', verify = True)\n",
    "        file.write(res.content)\n",
    "    image = cv2.imread('kaptcha.jpg')\n",
    "    open_cv_image = numpy.array(image)\n",
    "    nc = cv2.fastNlMeansDenoisingColored(open_cv_image, None, 30, 30, 7, 21)\n",
    "    imgray = cv2.cvtColor(nc, cv2.COLOR_RGB2GRAY)\n",
    "    ret, thresh = cv2.threshold(imgray, 127, 255, 0, cv2.THRESH_BINARY)\n",
    "    contours, hierarchy = cv2.findContours(thresh, cv2.RETR_TREE, cv2.CHAIN_APPROX_SIMPLE)\n",
    "    cnts = sorted([(c, cv2.boundingRect(c)[0]) for c in contours], key = lambda x: x[1])\n",
    "    ary = []\n",
    "    plt.imshow(thresh)\n",
    "    for (c, _) in cnts:\n",
    "        (x, y, w, h) = cv2.boundingRect(c)\n",
    "        if w >= 9 and h >= 12 and h <= 20 and w <= 50:\n",
    "            ary.append((x, y, w, h))\n",
    "            print((x, y, w, h))\n",
    "    for id, (x, y, w, h) in enumerate(ary):\n",
    "        roi = numpy.ones((28,28))*255\n",
    "\n",
    "        roi[:h,:w] = imgray[y:y + h, x:x + w]\n",
    "        roi/=255\n",
    "\n",
    "        roi = numpy.expand_dims(roi, axis=-1)\n",
    "        roi = numpy.reshape(roi, (1, 28, 28, 1))\n",
    "        #print(roi.shape)\n",
    "        thresh = roi.copy()\n",
    "        result = model.predict(thresh)\n",
    "        #print(result)\n",
    "        print(numpy.where(result==max(numpy.reshape(result,(9,))))[1][0])\n",
    "        #breakpoint()"
   ]
  }
 ],
 "metadata": {
  "language_info": {
   "name": "python"
  }
 },
 "nbformat": 4,
 "nbformat_minor": 2
}
